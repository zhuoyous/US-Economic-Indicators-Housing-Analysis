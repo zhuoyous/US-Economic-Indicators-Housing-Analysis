{
 "cells": [
  {
   "cell_type": "code",
   "execution_count": 1,
   "id": "10b9bd7a",
   "metadata": {},
   "outputs": [],
   "source": [
    "import pandas as pd\n",
    "import numpy as np\n",
    "import requests\n",
    "import time\n",
    "from bs4 import BeautifulSoup as bs\n",
    "import csv\n",
    "import sqlite3\n",
    "from Lab6Code import csv_dataset\n",
    "from sklearn import datasets, linear_model\n",
    "from sklearn.linear_model import LinearRegression\n",
    "import statsmodels.api as sm\n",
    "from scipy import stats\n",
    "import matplotlib.pyplot as plt\n",
    "from sklearn.model_selection import train_test_split"
   ]
  },
  {
   "cell_type": "code",
   "execution_count": 2,
   "id": "a25939d4",
   "metadata": {},
   "outputs": [],
   "source": [
    "rows=[]\n",
    "r=requests.post(\"https://www.usinflationcalculator.com/inflation/current-inflation-rates/\")\n",
    "r.encoding='utf-8'\n",
    "mypage=r.text\n",
    "soup=bs(mypage,\"html.parser\")\n",
    "first_table=soup.find('table')\n",
    "#read all tr \n",
    "trs=first_table.select('tr')\n",
    "for tr in trs:\n",
    "    data = tr.find_all('td')\n",
    "    if len(data)==0:\n",
    "        continue\n",
    "    year=data[0].getText()\n",
    "    Jan=data[1].getText()\n",
    "    Feb=data[2].getText()\n",
    "    Mar=data[3].getText()\n",
    "    Apr=data[4].getText()\n",
    "    May=data[5].getText()\n",
    "    Jun=data[6].getText()\n",
    "    Jul=data[7].getText()\n",
    "    Aug=data[8].getText()\n",
    "    Sep=data[9].getText()\n",
    "    Oct=data[10].getText()\n",
    "    Nov=data[11].getText()\n",
    "    Dec=data[12].getText()\n",
    "    rows.append([year,Jan,Feb,Mar,Apr,May,Jun,Jul,Aug,Sep,Oct,Nov,Dec])\n",
    "rows=rows[::-1]"
   ]
  },
  {
   "cell_type": "code",
   "execution_count": 3,
   "id": "07315b89",
   "metadata": {},
   "outputs": [
    {
     "name": "stdout",
     "output_type": "stream",
     "text": [
      "[['2000', '2.7', '3.2', '3.8', '3.1', '3.2', '3.7', '3.7', '3.4', '3.5', '3.4', '3.4', '3.4'], ['2001', '3.7', '3.5', '2.9', '3.3', '3.6', '3.2', '2.7', '2.7', '2.6', '2.1', '1.9', '1.6'], ['2002', '1.1', '1.1', '1.5', '1.6', '1.2', '1.1', '1.5', '1.8', '1.5', '2.0', '2.2', '2.4'], ['2003', '2.6', '3.0', '3.0', '2.2', '2.1', '2.1', '2.1', '2.2', '2.3', '2.0', '1.8', '1.9'], ['2004', '1.9', '1.7', '1.7', '2.3', '3.1', '3.3', '3.0', '2.7', '2.5', '3.2', '3.5', '3.3'], ['2005', '3.0', '3.0', '3.1', '3.5', '2.8', '2.5', '3.2', '3.6', '4.7', '4.3', '3.5', '3.4'], ['2006', '4.0', '3.6', '3.4', '3.5', '4.2', '4.3', '4.1', '3.8', '2.1', '1.3', '2.0', '2.5'], ['2007', '2.1', '2.4', '2.8', '2.6', '2.7', '2.7', '2.4', '2.0', '2.8', '3.5', '4.3', '4.1'], ['2008', '4.3', '4.0', '4.0', '3.9', '4.2', '5.0', '5.6', '5.4', '4.9', '3.7', '1.1', '0.1'], ['2009', '0', '0.2', '-0.4', '-0.7', '-1.3', '-1.4', '-2.1', '-1.5', '-1.3', '-0.2', '1.8', '2.7'], ['2010', '2.6', '2.1', '2.3', '2.2', '2.0', '1.1', '1.2', '1.1', '1.1', '1.2', '1.1', '1.5'], ['2011', '1.6', '2.1', '2.7', '3.2', '3.6', '3.6', '3.6', '3.8', '3.9', '3.5', '3.4', '3.0'], ['2012', '2.9', '2.9', '2.7', '2.3', '1.7', '1.7', '1.4', '1.7', '2.0', '2.2', '1.8', '1.7'], ['2013', '1.6', '2.0', '1.5', '1.1', '1.4', '1.8', '2.0', '1.5', '1.2', '1.0', '1.2', '1.5'], ['2014', '1.6', '1.1', '1.5', '2.0', '2.1', '2.1', '2.0', '1.7', '1.7', '1.7', '1.3', '0.8'], ['2015', '-0.1', '0.0', '-0.1', '-0.2', '0.0', '0.1', '0.2', '0.2', '0.0', '0.2', '0.5', '0.7'], ['2016', '1.4', '1.0', '0.9', '1.1', '1.0', '1.0', '0.8', '1.1', '1.5', '1.6', '1.7', '2.1'], ['2017', '2.5', '2.7', '2.4', '2.2', '1.9', '1.6', '1.7', '1.9', '2.2', '2.0', '2.2', '2.1'], ['2018', '2.1', '2.2', '2.4', '2.5', '2.8', '2.9', '2.9', '2.7', '2.3', '2.5', '2.2', '1.9'], ['2019', '1.6', '1.5', '1.9', '2.0', '1.8', '1.6', '1.8', '1.7', '1.7', '1.8', '2.1', '2.3'], ['2020', '2.5', '2.3', '1.5', '0.3', '0.1', '0.6', '1.0', '1.3', '1.4', '1.2', '1.2', '1.4'], ['2021', '1.4', '1.7', '2.6', '4.2', '5.0', '5.4', '5.4', '5.3', '5.4', '6.2', '6.8', '7.0'], ['2022', '7.5', '7.9', '8.5', 'Avail.\\n     May\\n     11', '\\xa0', '\\xa0', '\\xa0', '\\xa0', '\\xa0', '\\xa0', '\\xa0', '\\xa0'], ['Year', 'Jan', 'Feb', 'Mar', 'Apr', 'May', 'Jun', 'Jul', 'Aug', 'Sep', 'Oct', 'Nov', 'Dec']]\n"
     ]
    }
   ],
   "source": [
    "print(rows)"
   ]
  },
  {
   "cell_type": "code",
   "execution_count": 4,
   "id": "f3175c02",
   "metadata": {},
   "outputs": [],
   "source": [
    "year_month=pd.date_range('2000-01-01','2021-12-01', freq='MS').strftime(\"%Y-%b\").tolist()\n",
    "inflation=[]\n",
    "#append inflation rate\n",
    "for i in rows[:-2:]:\n",
    "    for j in i[1:]:\n",
    "        inflation.append(j)\n",
    "cols={'Date':year_month, 'inflation_rate':inflation}\n",
    "\n",
    "#append unemployment rate\n",
    "#unemploy=pd.read_csv('unemployment.csv')\n",
    "\n",
    "\n",
    "df_table=pd.DataFrame(cols)\n",
    "#df_table\n",
    "df_table.to_csv(\"scrape_csv.csv\")"
   ]
  },
  {
   "cell_type": "code",
   "execution_count": 5,
   "id": "93878e2f",
   "metadata": {},
   "outputs": [
    {
     "data": {
      "text/html": [
       "<div>\n",
       "<style scoped>\n",
       "    .dataframe tbody tr th:only-of-type {\n",
       "        vertical-align: middle;\n",
       "    }\n",
       "\n",
       "    .dataframe tbody tr th {\n",
       "        vertical-align: top;\n",
       "    }\n",
       "\n",
       "    .dataframe thead th {\n",
       "        text-align: right;\n",
       "    }\n",
       "</style>\n",
       "<table border=\"1\" class=\"dataframe\">\n",
       "  <thead>\n",
       "    <tr style=\"text-align: right;\">\n",
       "      <th></th>\n",
       "      <th>Labor Force Statistics from the Current Population Survey</th>\n",
       "      <th>Unnamed: 1</th>\n",
       "      <th>Unnamed: 2</th>\n",
       "      <th>Unnamed: 3</th>\n",
       "      <th>Unnamed: 4</th>\n",
       "      <th>Unnamed: 5</th>\n",
       "      <th>Unnamed: 6</th>\n",
       "      <th>Unnamed: 7</th>\n",
       "      <th>Unnamed: 8</th>\n",
       "      <th>Unnamed: 9</th>\n",
       "      <th>Unnamed: 10</th>\n",
       "      <th>Unnamed: 11</th>\n",
       "      <th>Unnamed: 12</th>\n",
       "    </tr>\n",
       "  </thead>\n",
       "  <tbody>\n",
       "    <tr>\n",
       "      <th>0</th>\n",
       "      <td>Original Data Value</td>\n",
       "      <td>NaN</td>\n",
       "      <td>NaN</td>\n",
       "      <td>NaN</td>\n",
       "      <td>NaN</td>\n",
       "      <td>NaN</td>\n",
       "      <td>NaN</td>\n",
       "      <td>NaN</td>\n",
       "      <td>NaN</td>\n",
       "      <td>NaN</td>\n",
       "      <td>NaN</td>\n",
       "      <td>NaN</td>\n",
       "      <td>NaN</td>\n",
       "    </tr>\n",
       "    <tr>\n",
       "      <th>1</th>\n",
       "      <td>NaN</td>\n",
       "      <td>NaN</td>\n",
       "      <td>NaN</td>\n",
       "      <td>NaN</td>\n",
       "      <td>NaN</td>\n",
       "      <td>NaN</td>\n",
       "      <td>NaN</td>\n",
       "      <td>NaN</td>\n",
       "      <td>NaN</td>\n",
       "      <td>NaN</td>\n",
       "      <td>NaN</td>\n",
       "      <td>NaN</td>\n",
       "      <td>NaN</td>\n",
       "    </tr>\n",
       "    <tr>\n",
       "      <th>2</th>\n",
       "      <td>Series Id:</td>\n",
       "      <td>LNS14000000</td>\n",
       "      <td>NaN</td>\n",
       "      <td>NaN</td>\n",
       "      <td>NaN</td>\n",
       "      <td>NaN</td>\n",
       "      <td>NaN</td>\n",
       "      <td>NaN</td>\n",
       "      <td>NaN</td>\n",
       "      <td>NaN</td>\n",
       "      <td>NaN</td>\n",
       "      <td>NaN</td>\n",
       "      <td>NaN</td>\n",
       "    </tr>\n",
       "    <tr>\n",
       "      <th>3</th>\n",
       "      <td>Seasonally Adjusted</td>\n",
       "      <td>NaN</td>\n",
       "      <td>NaN</td>\n",
       "      <td>NaN</td>\n",
       "      <td>NaN</td>\n",
       "      <td>NaN</td>\n",
       "      <td>NaN</td>\n",
       "      <td>NaN</td>\n",
       "      <td>NaN</td>\n",
       "      <td>NaN</td>\n",
       "      <td>NaN</td>\n",
       "      <td>NaN</td>\n",
       "      <td>NaN</td>\n",
       "    </tr>\n",
       "    <tr>\n",
       "      <th>4</th>\n",
       "      <td>Series title:</td>\n",
       "      <td>(Seas) Unemployment Rate</td>\n",
       "      <td>NaN</td>\n",
       "      <td>NaN</td>\n",
       "      <td>NaN</td>\n",
       "      <td>NaN</td>\n",
       "      <td>NaN</td>\n",
       "      <td>NaN</td>\n",
       "      <td>NaN</td>\n",
       "      <td>NaN</td>\n",
       "      <td>NaN</td>\n",
       "      <td>NaN</td>\n",
       "      <td>NaN</td>\n",
       "    </tr>\n",
       "    <tr>\n",
       "      <th>5</th>\n",
       "      <td>Labor force status:</td>\n",
       "      <td>Unemployment rate</td>\n",
       "      <td>NaN</td>\n",
       "      <td>NaN</td>\n",
       "      <td>NaN</td>\n",
       "      <td>NaN</td>\n",
       "      <td>NaN</td>\n",
       "      <td>NaN</td>\n",
       "      <td>NaN</td>\n",
       "      <td>NaN</td>\n",
       "      <td>NaN</td>\n",
       "      <td>NaN</td>\n",
       "      <td>NaN</td>\n",
       "    </tr>\n",
       "    <tr>\n",
       "      <th>6</th>\n",
       "      <td>Type of data:</td>\n",
       "      <td>Percent or rate</td>\n",
       "      <td>NaN</td>\n",
       "      <td>NaN</td>\n",
       "      <td>NaN</td>\n",
       "      <td>NaN</td>\n",
       "      <td>NaN</td>\n",
       "      <td>NaN</td>\n",
       "      <td>NaN</td>\n",
       "      <td>NaN</td>\n",
       "      <td>NaN</td>\n",
       "      <td>NaN</td>\n",
       "      <td>NaN</td>\n",
       "    </tr>\n",
       "    <tr>\n",
       "      <th>7</th>\n",
       "      <td>Age:</td>\n",
       "      <td>16 years and over</td>\n",
       "      <td>NaN</td>\n",
       "      <td>NaN</td>\n",
       "      <td>NaN</td>\n",
       "      <td>NaN</td>\n",
       "      <td>NaN</td>\n",
       "      <td>NaN</td>\n",
       "      <td>NaN</td>\n",
       "      <td>NaN</td>\n",
       "      <td>NaN</td>\n",
       "      <td>NaN</td>\n",
       "      <td>NaN</td>\n",
       "    </tr>\n",
       "    <tr>\n",
       "      <th>8</th>\n",
       "      <td>Years:</td>\n",
       "      <td>2012 to 2022</td>\n",
       "      <td>NaN</td>\n",
       "      <td>NaN</td>\n",
       "      <td>NaN</td>\n",
       "      <td>NaN</td>\n",
       "      <td>NaN</td>\n",
       "      <td>NaN</td>\n",
       "      <td>NaN</td>\n",
       "      <td>NaN</td>\n",
       "      <td>NaN</td>\n",
       "      <td>NaN</td>\n",
       "      <td>NaN</td>\n",
       "    </tr>\n",
       "    <tr>\n",
       "      <th>9</th>\n",
       "      <td>NaN</td>\n",
       "      <td>NaN</td>\n",
       "      <td>NaN</td>\n",
       "      <td>NaN</td>\n",
       "      <td>NaN</td>\n",
       "      <td>NaN</td>\n",
       "      <td>NaN</td>\n",
       "      <td>NaN</td>\n",
       "      <td>NaN</td>\n",
       "      <td>NaN</td>\n",
       "      <td>NaN</td>\n",
       "      <td>NaN</td>\n",
       "      <td>NaN</td>\n",
       "    </tr>\n",
       "    <tr>\n",
       "      <th>10</th>\n",
       "      <td>Year</td>\n",
       "      <td>Jan</td>\n",
       "      <td>Feb</td>\n",
       "      <td>Mar</td>\n",
       "      <td>Apr</td>\n",
       "      <td>May</td>\n",
       "      <td>Jun</td>\n",
       "      <td>Jul</td>\n",
       "      <td>Aug</td>\n",
       "      <td>Sep</td>\n",
       "      <td>Oct</td>\n",
       "      <td>Nov</td>\n",
       "      <td>Dec</td>\n",
       "    </tr>\n",
       "    <tr>\n",
       "      <th>11</th>\n",
       "      <td>2012</td>\n",
       "      <td>8.3</td>\n",
       "      <td>8.3</td>\n",
       "      <td>8.2</td>\n",
       "      <td>8.2</td>\n",
       "      <td>8.2</td>\n",
       "      <td>8.2</td>\n",
       "      <td>8.2</td>\n",
       "      <td>8.1</td>\n",
       "      <td>7.8</td>\n",
       "      <td>7.8</td>\n",
       "      <td>7.7</td>\n",
       "      <td>7.9</td>\n",
       "    </tr>\n",
       "    <tr>\n",
       "      <th>12</th>\n",
       "      <td>2013</td>\n",
       "      <td>8.0</td>\n",
       "      <td>7.7</td>\n",
       "      <td>7.5</td>\n",
       "      <td>7.6</td>\n",
       "      <td>7.5</td>\n",
       "      <td>7.5</td>\n",
       "      <td>7.3</td>\n",
       "      <td>7.2</td>\n",
       "      <td>7.2</td>\n",
       "      <td>7.2</td>\n",
       "      <td>6.9</td>\n",
       "      <td>6.7</td>\n",
       "    </tr>\n",
       "    <tr>\n",
       "      <th>13</th>\n",
       "      <td>2014</td>\n",
       "      <td>6.6</td>\n",
       "      <td>6.7</td>\n",
       "      <td>6.7</td>\n",
       "      <td>6.2</td>\n",
       "      <td>6.3</td>\n",
       "      <td>6.1</td>\n",
       "      <td>6.2</td>\n",
       "      <td>6.1</td>\n",
       "      <td>5.9</td>\n",
       "      <td>5.7</td>\n",
       "      <td>5.8</td>\n",
       "      <td>5.6</td>\n",
       "    </tr>\n",
       "    <tr>\n",
       "      <th>14</th>\n",
       "      <td>2015</td>\n",
       "      <td>5.7</td>\n",
       "      <td>5.5</td>\n",
       "      <td>5.4</td>\n",
       "      <td>5.4</td>\n",
       "      <td>5.6</td>\n",
       "      <td>5.3</td>\n",
       "      <td>5.2</td>\n",
       "      <td>5.1</td>\n",
       "      <td>5.0</td>\n",
       "      <td>5.0</td>\n",
       "      <td>5.1</td>\n",
       "      <td>5.0</td>\n",
       "    </tr>\n",
       "    <tr>\n",
       "      <th>15</th>\n",
       "      <td>2016</td>\n",
       "      <td>4.8</td>\n",
       "      <td>4.9</td>\n",
       "      <td>5.0</td>\n",
       "      <td>5.1</td>\n",
       "      <td>4.8</td>\n",
       "      <td>4.9</td>\n",
       "      <td>4.8</td>\n",
       "      <td>4.9</td>\n",
       "      <td>5.0</td>\n",
       "      <td>4.9</td>\n",
       "      <td>4.7</td>\n",
       "      <td>4.7</td>\n",
       "    </tr>\n",
       "    <tr>\n",
       "      <th>16</th>\n",
       "      <td>2017</td>\n",
       "      <td>4.7</td>\n",
       "      <td>4.6</td>\n",
       "      <td>4.4</td>\n",
       "      <td>4.4</td>\n",
       "      <td>4.4</td>\n",
       "      <td>4.3</td>\n",
       "      <td>4.3</td>\n",
       "      <td>4.4</td>\n",
       "      <td>4.3</td>\n",
       "      <td>4.2</td>\n",
       "      <td>4.2</td>\n",
       "      <td>4.1</td>\n",
       "    </tr>\n",
       "    <tr>\n",
       "      <th>17</th>\n",
       "      <td>2018</td>\n",
       "      <td>4.0</td>\n",
       "      <td>4.1</td>\n",
       "      <td>4.0</td>\n",
       "      <td>4.0</td>\n",
       "      <td>3.8</td>\n",
       "      <td>4.0</td>\n",
       "      <td>3.8</td>\n",
       "      <td>3.8</td>\n",
       "      <td>3.7</td>\n",
       "      <td>3.8</td>\n",
       "      <td>3.8</td>\n",
       "      <td>3.9</td>\n",
       "    </tr>\n",
       "    <tr>\n",
       "      <th>18</th>\n",
       "      <td>2019</td>\n",
       "      <td>4.0</td>\n",
       "      <td>3.8</td>\n",
       "      <td>3.8</td>\n",
       "      <td>3.6</td>\n",
       "      <td>3.6</td>\n",
       "      <td>3.6</td>\n",
       "      <td>3.7</td>\n",
       "      <td>3.7</td>\n",
       "      <td>3.5</td>\n",
       "      <td>3.6</td>\n",
       "      <td>3.6</td>\n",
       "      <td>3.6</td>\n",
       "    </tr>\n",
       "    <tr>\n",
       "      <th>19</th>\n",
       "      <td>2020</td>\n",
       "      <td>3.5</td>\n",
       "      <td>3.5</td>\n",
       "      <td>4.4</td>\n",
       "      <td>14.7</td>\n",
       "      <td>13.2</td>\n",
       "      <td>11.0</td>\n",
       "      <td>10.2</td>\n",
       "      <td>8.4</td>\n",
       "      <td>7.9</td>\n",
       "      <td>6.9</td>\n",
       "      <td>6.7</td>\n",
       "      <td>6.7</td>\n",
       "    </tr>\n",
       "    <tr>\n",
       "      <th>20</th>\n",
       "      <td>2021</td>\n",
       "      <td>6.4</td>\n",
       "      <td>6.2</td>\n",
       "      <td>6.0</td>\n",
       "      <td>6.0</td>\n",
       "      <td>5.8</td>\n",
       "      <td>5.9</td>\n",
       "      <td>5.4</td>\n",
       "      <td>5.2</td>\n",
       "      <td>4.7</td>\n",
       "      <td>4.6</td>\n",
       "      <td>4.2</td>\n",
       "      <td>3.9</td>\n",
       "    </tr>\n",
       "    <tr>\n",
       "      <th>21</th>\n",
       "      <td>2022</td>\n",
       "      <td>4.0</td>\n",
       "      <td>3.8</td>\n",
       "      <td>3.6</td>\n",
       "      <td>NaN</td>\n",
       "      <td>NaN</td>\n",
       "      <td>NaN</td>\n",
       "      <td>NaN</td>\n",
       "      <td>NaN</td>\n",
       "      <td>NaN</td>\n",
       "      <td>NaN</td>\n",
       "      <td>NaN</td>\n",
       "      <td>NaN</td>\n",
       "    </tr>\n",
       "  </tbody>\n",
       "</table>\n",
       "</div>"
      ],
      "text/plain": [
       "   Labor Force Statistics from the Current Population Survey  \\\n",
       "0                                 Original Data Value          \n",
       "1                                                 NaN          \n",
       "2                                          Series Id:          \n",
       "3                                 Seasonally Adjusted          \n",
       "4                                       Series title:          \n",
       "5                                 Labor force status:          \n",
       "6                                       Type of data:          \n",
       "7                                                Age:          \n",
       "8                                              Years:          \n",
       "9                                                 NaN          \n",
       "10                                               Year          \n",
       "11                                               2012          \n",
       "12                                               2013          \n",
       "13                                               2014          \n",
       "14                                               2015          \n",
       "15                                               2016          \n",
       "16                                               2017          \n",
       "17                                               2018          \n",
       "18                                               2019          \n",
       "19                                               2020          \n",
       "20                                               2021          \n",
       "21                                               2022          \n",
       "\n",
       "                  Unnamed: 1 Unnamed: 2 Unnamed: 3 Unnamed: 4 Unnamed: 5  \\\n",
       "0                        NaN        NaN        NaN        NaN        NaN   \n",
       "1                        NaN        NaN        NaN        NaN        NaN   \n",
       "2                LNS14000000        NaN        NaN        NaN        NaN   \n",
       "3                        NaN        NaN        NaN        NaN        NaN   \n",
       "4   (Seas) Unemployment Rate        NaN        NaN        NaN        NaN   \n",
       "5          Unemployment rate        NaN        NaN        NaN        NaN   \n",
       "6            Percent or rate        NaN        NaN        NaN        NaN   \n",
       "7          16 years and over        NaN        NaN        NaN        NaN   \n",
       "8               2012 to 2022        NaN        NaN        NaN        NaN   \n",
       "9                        NaN        NaN        NaN        NaN        NaN   \n",
       "10                       Jan        Feb        Mar        Apr        May   \n",
       "11                       8.3        8.3        8.2        8.2        8.2   \n",
       "12                       8.0        7.7        7.5        7.6        7.5   \n",
       "13                       6.6        6.7        6.7        6.2        6.3   \n",
       "14                       5.7        5.5        5.4        5.4        5.6   \n",
       "15                       4.8        4.9        5.0        5.1        4.8   \n",
       "16                       4.7        4.6        4.4        4.4        4.4   \n",
       "17                       4.0        4.1        4.0        4.0        3.8   \n",
       "18                       4.0        3.8        3.8        3.6        3.6   \n",
       "19                       3.5        3.5        4.4       14.7       13.2   \n",
       "20                       6.4        6.2        6.0        6.0        5.8   \n",
       "21                       4.0        3.8        3.6        NaN        NaN   \n",
       "\n",
       "   Unnamed: 6 Unnamed: 7 Unnamed: 8 Unnamed: 9 Unnamed: 10 Unnamed: 11  \\\n",
       "0         NaN        NaN        NaN        NaN         NaN         NaN   \n",
       "1         NaN        NaN        NaN        NaN         NaN         NaN   \n",
       "2         NaN        NaN        NaN        NaN         NaN         NaN   \n",
       "3         NaN        NaN        NaN        NaN         NaN         NaN   \n",
       "4         NaN        NaN        NaN        NaN         NaN         NaN   \n",
       "5         NaN        NaN        NaN        NaN         NaN         NaN   \n",
       "6         NaN        NaN        NaN        NaN         NaN         NaN   \n",
       "7         NaN        NaN        NaN        NaN         NaN         NaN   \n",
       "8         NaN        NaN        NaN        NaN         NaN         NaN   \n",
       "9         NaN        NaN        NaN        NaN         NaN         NaN   \n",
       "10        Jun        Jul        Aug        Sep         Oct         Nov   \n",
       "11        8.2        8.2        8.1        7.8         7.8         7.7   \n",
       "12        7.5        7.3        7.2        7.2         7.2         6.9   \n",
       "13        6.1        6.2        6.1        5.9         5.7         5.8   \n",
       "14        5.3        5.2        5.1        5.0         5.0         5.1   \n",
       "15        4.9        4.8        4.9        5.0         4.9         4.7   \n",
       "16        4.3        4.3        4.4        4.3         4.2         4.2   \n",
       "17        4.0        3.8        3.8        3.7         3.8         3.8   \n",
       "18        3.6        3.7        3.7        3.5         3.6         3.6   \n",
       "19       11.0       10.2        8.4        7.9         6.9         6.7   \n",
       "20        5.9        5.4        5.2        4.7         4.6         4.2   \n",
       "21        NaN        NaN        NaN        NaN         NaN         NaN   \n",
       "\n",
       "   Unnamed: 12  \n",
       "0          NaN  \n",
       "1          NaN  \n",
       "2          NaN  \n",
       "3          NaN  \n",
       "4          NaN  \n",
       "5          NaN  \n",
       "6          NaN  \n",
       "7          NaN  \n",
       "8          NaN  \n",
       "9          NaN  \n",
       "10         Dec  \n",
       "11         7.9  \n",
       "12         6.7  \n",
       "13         5.6  \n",
       "14         5.0  \n",
       "15         4.7  \n",
       "16         4.1  \n",
       "17         3.9  \n",
       "18         3.6  \n",
       "19         6.7  \n",
       "20         3.9  \n",
       "21         NaN  "
      ]
     },
     "execution_count": 5,
     "metadata": {},
     "output_type": "execute_result"
    }
   ],
   "source": [
    "unemploy=pd.read_csv('unemployment.csv')\n",
    "unemploy"
   ]
  },
  {
   "cell_type": "code",
   "execution_count": 6,
   "id": "2314a459",
   "metadata": {},
   "outputs": [],
   "source": [
    "def create_scrape_db():\n",
    "    csv_data = csv_dataset('scrape_csv.csv',',')\n",
    "    #create datebase\n",
    "    con = sqlite3.connect('scrape.db')\n",
    "    cur = con.cursor()\n",
    "    cur.execute('DROP TABLE IF EXISTS inflation_rate')\n",
    "    cur.execute('''CREATE TABLE inflation_rate(List_number INTEGER,Date DATE, inflation_rate FLOAT)''')\n",
    "    for item in csv_data[1:]:\n",
    "        cur.execute('INSERT INTO inflation_rate VALUES (?,?,?)',item)\n",
    "    con.commit()\n",
    "    result=cur.fetchall()\n",
    "    con.close()"
   ]
  },
  {
   "cell_type": "code",
   "execution_count": 7,
   "id": "bbc26c2e",
   "metadata": {},
   "outputs": [],
   "source": [
    "create_scrape_db()"
   ]
  },
  {
   "cell_type": "code",
   "execution_count": 8,
   "id": "80138790",
   "metadata": {},
   "outputs": [],
   "source": [
    "house=pd.read_csv('HousePrice.csv')\n",
    "house=list(house.iloc[0])\n",
    "house_price=list(house[5:-1])\n",
    "cols2={'Date':year_month, 'house_price':house_price}\n",
    "df_house = pd.DataFrame(cols2)\n",
    "df_house.to_csv(\"house.csv\")"
   ]
  },
  {
   "cell_type": "code",
   "execution_count": 9,
   "id": "d49e2194",
   "metadata": {},
   "outputs": [],
   "source": [
    "def create_house_db():\n",
    "    csv_data = csv_dataset('house.csv',',')\n",
    "    #create datebase\n",
    "    con = sqlite3.connect('scrape.db')\n",
    "    cur = con.cursor()\n",
    "    cur.execute('DROP TABLE IF EXISTS house_price')\n",
    "    cur.execute('''CREATE TABLE house_price(List_number INTEGER,Date DATE, House_price FLOAT)''')\n",
    "    for item in csv_data[1:]:\n",
    "        cur.execute('INSERT INTO house_price VALUES (?,?,?)',item)\n",
    "    con.commit()\n",
    "    result=cur.fetchall()\n",
    "    con.close()\n",
    "create_house_db()"
   ]
  },
  {
   "cell_type": "code",
   "execution_count": 10,
   "id": "24f09bd0",
   "metadata": {},
   "outputs": [],
   "source": [
    "def create_combined_table():\n",
    "    con = sqlite3.connect('scrape.db')\n",
    "    cur = con.cursor()\n",
    "    cur.execute('DROP TABLE IF EXISTS inflation_house')\n",
    "    cur.execute('''CREATE TABLE inflation_house (Date DATE, inflation_rate FLOAT, house_price FLOAT)''')\n",
    "    con.commit()\n",
    "    con.close()\n",
    "\n",
    "create_combined_table()"
   ]
  },
  {
   "cell_type": "code",
   "execution_count": 11,
   "id": "a4b2b75c",
   "metadata": {},
   "outputs": [],
   "source": [
    "def insert_inflation():\n",
    "    con = sqlite3.connect('scrape.db')\n",
    "    cur = con.cursor()\n",
    "    query = '''INSERT INTO inflation_house\n",
    "                SELECT ir.Date, ir.inflation_rate, hp.House_price\n",
    "                FROM inflation_rate ir\n",
    "                INNER JOIN house_price hp\n",
    "                ON ir.Date = hp.Date\n",
    "    '''\n",
    "    results = cur.execute(query).fetchall()\n",
    "    con.commit()\n",
    "    con.close()\n",
    "insert_inflation()"
   ]
  },
  {
   "cell_type": "markdown",
   "id": "d6e19246",
   "metadata": {},
   "source": [
    "\n",
    "$H_0$: There is no relationship between inflation rate and house price.\n",
    "\n",
    "$H_1$: There is a significant relationship between inflation rate and house price."
   ]
  },
  {
   "cell_type": "code",
   "execution_count": 12,
   "id": "09957fda",
   "metadata": {},
   "outputs": [
    {
     "data": {
      "text/html": [
       "<div>\n",
       "<style scoped>\n",
       "    .dataframe tbody tr th:only-of-type {\n",
       "        vertical-align: middle;\n",
       "    }\n",
       "\n",
       "    .dataframe tbody tr th {\n",
       "        vertical-align: top;\n",
       "    }\n",
       "\n",
       "    .dataframe thead th {\n",
       "        text-align: right;\n",
       "    }\n",
       "</style>\n",
       "<table border=\"1\" class=\"dataframe\">\n",
       "  <thead>\n",
       "    <tr style=\"text-align: right;\">\n",
       "      <th></th>\n",
       "      <th>Date</th>\n",
       "      <th>inflation_rate</th>\n",
       "      <th>house_price</th>\n",
       "    </tr>\n",
       "  </thead>\n",
       "  <tbody>\n",
       "    <tr>\n",
       "      <th>0</th>\n",
       "      <td>2000-Jan</td>\n",
       "      <td>2.7</td>\n",
       "      <td>127215.0</td>\n",
       "    </tr>\n",
       "    <tr>\n",
       "      <th>1</th>\n",
       "      <td>2000-Feb</td>\n",
       "      <td>3.2</td>\n",
       "      <td>127559.0</td>\n",
       "    </tr>\n",
       "    <tr>\n",
       "      <th>2</th>\n",
       "      <td>2000-Mar</td>\n",
       "      <td>3.8</td>\n",
       "      <td>127921.0</td>\n",
       "    </tr>\n",
       "    <tr>\n",
       "      <th>3</th>\n",
       "      <td>2000-Apr</td>\n",
       "      <td>3.1</td>\n",
       "      <td>128658.0</td>\n",
       "    </tr>\n",
       "    <tr>\n",
       "      <th>4</th>\n",
       "      <td>2000-May</td>\n",
       "      <td>3.2</td>\n",
       "      <td>129402.0</td>\n",
       "    </tr>\n",
       "    <tr>\n",
       "      <th>...</th>\n",
       "      <td>...</td>\n",
       "      <td>...</td>\n",
       "      <td>...</td>\n",
       "    </tr>\n",
       "    <tr>\n",
       "      <th>259</th>\n",
       "      <td>2021-Aug</td>\n",
       "      <td>5.3</td>\n",
       "      <td>304039.0</td>\n",
       "    </tr>\n",
       "    <tr>\n",
       "      <th>260</th>\n",
       "      <td>2021-Sep</td>\n",
       "      <td>5.4</td>\n",
       "      <td>308663.0</td>\n",
       "    </tr>\n",
       "    <tr>\n",
       "      <th>261</th>\n",
       "      <td>2021-Oct</td>\n",
       "      <td>6.2</td>\n",
       "      <td>312760.0</td>\n",
       "    </tr>\n",
       "    <tr>\n",
       "      <th>262</th>\n",
       "      <td>2021-Nov</td>\n",
       "      <td>6.8</td>\n",
       "      <td>316645.0</td>\n",
       "    </tr>\n",
       "    <tr>\n",
       "      <th>263</th>\n",
       "      <td>2021-Dec</td>\n",
       "      <td>7.0</td>\n",
       "      <td>320978.0</td>\n",
       "    </tr>\n",
       "  </tbody>\n",
       "</table>\n",
       "<p>264 rows × 3 columns</p>\n",
       "</div>"
      ],
      "text/plain": [
       "         Date  inflation_rate  house_price\n",
       "0    2000-Jan             2.7     127215.0\n",
       "1    2000-Feb             3.2     127559.0\n",
       "2    2000-Mar             3.8     127921.0\n",
       "3    2000-Apr             3.1     128658.0\n",
       "4    2000-May             3.2     129402.0\n",
       "..        ...             ...          ...\n",
       "259  2021-Aug             5.3     304039.0\n",
       "260  2021-Sep             5.4     308663.0\n",
       "261  2021-Oct             6.2     312760.0\n",
       "262  2021-Nov             6.8     316645.0\n",
       "263  2021-Dec             7.0     320978.0\n",
       "\n",
       "[264 rows x 3 columns]"
      ]
     },
     "execution_count": 12,
     "metadata": {},
     "output_type": "execute_result"
    }
   ],
   "source": [
    "con = sqlite3.connect('scrape.db')\n",
    "inf_house_df = pd.read_sql_query(\"SELECT * FROM inflation_house\", con)\n",
    "inf_house_df"
   ]
  },
  {
   "cell_type": "code",
   "execution_count": 13,
   "id": "24ca960e",
   "metadata": {},
   "outputs": [
    {
     "name": "stdout",
     "output_type": "stream",
     "text": [
      "                            OLS Regression Results                            \n",
      "==============================================================================\n",
      "Dep. Variable:                      y   R-squared:                       0.026\n",
      "Model:                            OLS   Adj. R-squared:                  0.022\n",
      "Method:                 Least Squares   F-statistic:                     6.880\n",
      "Date:                Sat, 23 Apr 2022   Prob (F-statistic):            0.00923\n",
      "Time:                        22:38:51   Log-Likelihood:                -455.93\n",
      "No. Observations:                 264   AIC:                             915.9\n",
      "Df Residuals:                     262   BIC:                             923.0\n",
      "Df Model:                           1                                         \n",
      "Covariance Type:            nonrobust                                         \n",
      "==============================================================================\n",
      "                 coef    std err          t      P>|t|      [0.025      0.975]\n",
      "------------------------------------------------------------------------------\n",
      "const          1.1390      0.430      2.646      0.009       0.292       1.987\n",
      "x1          5.679e-06   2.17e-06      2.623      0.009    1.42e-06    9.94e-06\n",
      "==============================================================================\n",
      "Omnibus:                        1.841   Durbin-Watson:                   0.114\n",
      "Prob(Omnibus):                  0.398   Jarque-Bera (JB):                1.687\n",
      "Skew:                          -0.005   Prob(JB):                        0.430\n",
      "Kurtosis:                       3.392   Cond. No.                     1.02e+06\n",
      "==============================================================================\n",
      "\n",
      "Notes:\n",
      "[1] Standard Errors assume that the covariance matrix of the errors is correctly specified.\n",
      "[2] The condition number is large, 1.02e+06. This might indicate that there are\n",
      "strong multicollinearity or other numerical problems.\n"
     ]
    },
    {
     "data": {
      "text/plain": [
       "[<matplotlib.lines.Line2D at 0x7fae7a6ec8b0>,\n",
       " <matplotlib.lines.Line2D at 0x7fae7a6ec820>]"
      ]
     },
     "execution_count": 13,
     "metadata": {},
     "output_type": "execute_result"
    },
    {
     "data": {
      "image/png": "[encoded data removed]",
      "text/plain": [
       "<Figure size 432x288 with 1 Axes>"
      ]
     },
     "metadata": {
      "needs_background": "light"
     },
     "output_type": "display_data"
    }
   ],
   "source": [
    "diabetes = datasets.load_diabetes()\n",
    "Y=list(inf_house_df['inflation_rate'])\n",
    "X1=list(inf_house_df['house_price'])\n",
    "X1= sm.add_constant(X1)\n",
    "regression1 = sm.OLS(Y,X1)\n",
    "model1 = regression1.fit()\n",
    "print(model1.summary())\n",
    "plt.plot(X1,Y,'.b')"
   ]
  },
  {
   "cell_type": "markdown",
   "id": "a3998994",
   "metadata": {},
   "source": [
    "We can see that the p-value is 0.009, which is less than 0.05, so we reject the null hypothesis and conclude the evidence that there is a significant relationship between inflation rate and house price."
   ]
  },
  {
   "cell_type": "markdown",
   "id": "75cd443d",
   "metadata": {},
   "source": [
    "### Import & Export Dataset (API)\n"
   ]
  },
  {
   "cell_type": "code",
   "execution_count": 14,
   "id": "61785c93",
   "metadata": {},
   "outputs": [
    {
     "data": {
      "text/html": [
       "<div>\n",
       "<style scoped>\n",
       "    .dataframe tbody tr th:only-of-type {\n",
       "        vertical-align: middle;\n",
       "    }\n",
       "\n",
       "    .dataframe tbody tr th {\n",
       "        vertical-align: top;\n",
       "    }\n",
       "\n",
       "    .dataframe thead th {\n",
       "        text-align: right;\n",
       "    }\n",
       "</style>\n",
       "<table border=\"1\" class=\"dataframe\">\n",
       "  <thead>\n",
       "    <tr style=\"text-align: right;\">\n",
       "      <th></th>\n",
       "      <th>Unnamed: 0</th>\n",
       "      <th>Date</th>\n",
       "      <th>Import_value</th>\n",
       "      <th>Export_value</th>\n",
       "    </tr>\n",
       "  </thead>\n",
       "  <tbody>\n",
       "    <tr>\n",
       "      <th>0</th>\n",
       "      <td>0</td>\n",
       "      <td>201001</td>\n",
       "      <td>139792954579</td>\n",
       "      <td>92674213944</td>\n",
       "    </tr>\n",
       "    <tr>\n",
       "      <th>1</th>\n",
       "      <td>1</td>\n",
       "      <td>201002</td>\n",
       "      <td>137989527837</td>\n",
       "      <td>93705051356</td>\n",
       "    </tr>\n",
       "    <tr>\n",
       "      <th>2</th>\n",
       "      <td>2</td>\n",
       "      <td>201003</td>\n",
       "      <td>161868067188</td>\n",
       "      <td>110230750991</td>\n",
       "    </tr>\n",
       "    <tr>\n",
       "      <th>3</th>\n",
       "      <td>3</td>\n",
       "      <td>201004</td>\n",
       "      <td>157174114346</td>\n",
       "      <td>102137719916</td>\n",
       "    </tr>\n",
       "    <tr>\n",
       "      <th>4</th>\n",
       "      <td>4</td>\n",
       "      <td>201005</td>\n",
       "      <td>160292896342</td>\n",
       "      <td>105311563308</td>\n",
       "    </tr>\n",
       "    <tr>\n",
       "      <th>...</th>\n",
       "      <td>...</td>\n",
       "      <td>...</td>\n",
       "      <td>...</td>\n",
       "      <td>...</td>\n",
       "    </tr>\n",
       "    <tr>\n",
       "      <th>127</th>\n",
       "      <td>127</td>\n",
       "      <td>202008</td>\n",
       "      <td>209439292560</td>\n",
       "      <td>117958253650</td>\n",
       "    </tr>\n",
       "    <tr>\n",
       "      <th>128</th>\n",
       "      <td>128</td>\n",
       "      <td>202009</td>\n",
       "      <td>212436902064</td>\n",
       "      <td>121378736772</td>\n",
       "    </tr>\n",
       "    <tr>\n",
       "      <th>129</th>\n",
       "      <td>129</td>\n",
       "      <td>202010</td>\n",
       "      <td>226163789343</td>\n",
       "      <td>132402660776</td>\n",
       "    </tr>\n",
       "    <tr>\n",
       "      <th>130</th>\n",
       "      <td>130</td>\n",
       "      <td>202011</td>\n",
       "      <td>219391292326</td>\n",
       "      <td>126854420188</td>\n",
       "    </tr>\n",
       "    <tr>\n",
       "      <th>131</th>\n",
       "      <td>131</td>\n",
       "      <td>202012</td>\n",
       "      <td>222249097743</td>\n",
       "      <td>132469605190</td>\n",
       "    </tr>\n",
       "  </tbody>\n",
       "</table>\n",
       "<p>132 rows × 4 columns</p>\n",
       "</div>"
      ],
      "text/plain": [
       "     Unnamed: 0    Date  Import_value  Export_value\n",
       "0             0  201001  139792954579   92674213944\n",
       "1             1  201002  137989527837   93705051356\n",
       "2             2  201003  161868067188  110230750991\n",
       "3             3  201004  157174114346  102137719916\n",
       "4             4  201005  160292896342  105311563308\n",
       "..          ...     ...           ...           ...\n",
       "127         127  202008  209439292560  117958253650\n",
       "128         128  202009  212436902064  121378736772\n",
       "129         129  202010  226163789343  132402660776\n",
       "130         130  202011  219391292326  126854420188\n",
       "131         131  202012  222249097743  132469605190\n",
       "\n",
       "[132 rows x 4 columns]"
      ]
     },
     "execution_count": 14,
     "metadata": {},
     "output_type": "execute_result"
    }
   ],
   "source": [
    "trade_value = pd.read_csv('import_export.csv')\n",
    "trade_value"
   ]
  },
  {
   "cell_type": "code",
   "execution_count": null,
   "id": "c5a45043",
   "metadata": {},
   "outputs": [],
   "source": []
  },
  {
   "cell_type": "code",
   "execution_count": 15,
   "id": "c9ebaa25",
   "metadata": {},
   "outputs": [],
   "source": [
    "unemployment = pd.read_csv('combine.csv')\n",
    "unemployment = unemployment.iloc[:108]\n",
    "unemployment_df=unemployment['unemploment rate'].reset_index(drop=True)"
   ]
  },
  {
   "cell_type": "code",
   "execution_count": 16,
   "id": "cf03d3a3",
   "metadata": {},
   "outputs": [],
   "source": [
    "trade=trade_value.iloc[24:]\n",
    "export_df=trade[['Import_value','Export_value']].reset_index(drop=True)"
   ]
  },
  {
   "cell_type": "code",
   "execution_count": 17,
   "id": "c8916e48",
   "metadata": {},
   "outputs": [
    {
     "data": {
      "text/html": [
       "<div>\n",
       "<style scoped>\n",
       "    .dataframe tbody tr th:only-of-type {\n",
       "        vertical-align: middle;\n",
       "    }\n",
       "\n",
       "    .dataframe tbody tr th {\n",
       "        vertical-align: top;\n",
       "    }\n",
       "\n",
       "    .dataframe thead th {\n",
       "        text-align: right;\n",
       "    }\n",
       "</style>\n",
       "<table border=\"1\" class=\"dataframe\">\n",
       "  <thead>\n",
       "    <tr style=\"text-align: right;\">\n",
       "      <th></th>\n",
       "      <th>Date</th>\n",
       "      <th>inflation_rate</th>\n",
       "      <th>house_price</th>\n",
       "    </tr>\n",
       "  </thead>\n",
       "  <tbody>\n",
       "    <tr>\n",
       "      <th>0</th>\n",
       "      <td>2012-Jan</td>\n",
       "      <td>2.9</td>\n",
       "      <td>163297.0</td>\n",
       "    </tr>\n",
       "    <tr>\n",
       "      <th>1</th>\n",
       "      <td>2012-Feb</td>\n",
       "      <td>2.9</td>\n",
       "      <td>163187.0</td>\n",
       "    </tr>\n",
       "    <tr>\n",
       "      <th>2</th>\n",
       "      <td>2012-Mar</td>\n",
       "      <td>2.7</td>\n",
       "      <td>163356.0</td>\n",
       "    </tr>\n",
       "    <tr>\n",
       "      <th>3</th>\n",
       "      <td>2012-Apr</td>\n",
       "      <td>2.3</td>\n",
       "      <td>163679.0</td>\n",
       "    </tr>\n",
       "    <tr>\n",
       "      <th>4</th>\n",
       "      <td>2012-May</td>\n",
       "      <td>1.7</td>\n",
       "      <td>164156.0</td>\n",
       "    </tr>\n",
       "    <tr>\n",
       "      <th>...</th>\n",
       "      <td>...</td>\n",
       "      <td>...</td>\n",
       "      <td>...</td>\n",
       "    </tr>\n",
       "    <tr>\n",
       "      <th>103</th>\n",
       "      <td>2020-Aug</td>\n",
       "      <td>1.3</td>\n",
       "      <td>257022.0</td>\n",
       "    </tr>\n",
       "    <tr>\n",
       "      <th>104</th>\n",
       "      <td>2020-Sep</td>\n",
       "      <td>1.4</td>\n",
       "      <td>259531.0</td>\n",
       "    </tr>\n",
       "    <tr>\n",
       "      <th>105</th>\n",
       "      <td>2020-Oct</td>\n",
       "      <td>1.2</td>\n",
       "      <td>262350.0</td>\n",
       "    </tr>\n",
       "    <tr>\n",
       "      <th>106</th>\n",
       "      <td>2020-Nov</td>\n",
       "      <td>1.2</td>\n",
       "      <td>265374.0</td>\n",
       "    </tr>\n",
       "    <tr>\n",
       "      <th>107</th>\n",
       "      <td>2020-Dec</td>\n",
       "      <td>1.4</td>\n",
       "      <td>268418.0</td>\n",
       "    </tr>\n",
       "  </tbody>\n",
       "</table>\n",
       "<p>108 rows × 3 columns</p>\n",
       "</div>"
      ],
      "text/plain": [
       "         Date  inflation_rate  house_price\n",
       "0    2012-Jan             2.9     163297.0\n",
       "1    2012-Feb             2.9     163187.0\n",
       "2    2012-Mar             2.7     163356.0\n",
       "3    2012-Apr             2.3     163679.0\n",
       "4    2012-May             1.7     164156.0\n",
       "..        ...             ...          ...\n",
       "103  2020-Aug             1.3     257022.0\n",
       "104  2020-Sep             1.4     259531.0\n",
       "105  2020-Oct             1.2     262350.0\n",
       "106  2020-Nov             1.2     265374.0\n",
       "107  2020-Dec             1.4     268418.0\n",
       "\n",
       "[108 rows x 3 columns]"
      ]
     },
     "execution_count": 17,
     "metadata": {},
     "output_type": "execute_result"
    }
   ],
   "source": [
    "house12=inf_house_df.iloc[144:252].reset_index(drop=True)\n",
    "house12"
   ]
  },
  {
   "cell_type": "code",
   "execution_count": 18,
   "id": "d2c77261",
   "metadata": {},
   "outputs": [],
   "source": [
    "interest=pd.read_csv('interest.csv')\n",
    "interest=interest.iloc[:108]\n",
    "interest_df=interest['interest rate'].reset_index(drop=True)"
   ]
  },
  {
   "cell_type": "code",
   "execution_count": 19,
   "id": "d0c9e0b1",
   "metadata": {},
   "outputs": [],
   "source": [
    "combine=pd.concat([house12, export_df,unemployment_df,interest_df],axis=1)"
   ]
  },
  {
   "cell_type": "code",
   "execution_count": 20,
   "id": "4f20b31a",
   "metadata": {},
   "outputs": [],
   "source": [
    "#combine.to_csv('all.csv')"
   ]
  },
  {
   "cell_type": "code",
   "execution_count": 21,
   "id": "97c6c4bd",
   "metadata": {},
   "outputs": [
    {
     "data": {
      "text/html": [
       "<div>\n",
       "<style scoped>\n",
       "    .dataframe tbody tr th:only-of-type {\n",
       "        vertical-align: middle;\n",
       "    }\n",
       "\n",
       "    .dataframe tbody tr th {\n",
       "        vertical-align: top;\n",
       "    }\n",
       "\n",
       "    .dataframe thead th {\n",
       "        text-align: right;\n",
       "    }\n",
       "</style>\n",
       "<table border=\"1\" class=\"dataframe\">\n",
       "  <thead>\n",
       "    <tr style=\"text-align: right;\">\n",
       "      <th></th>\n",
       "      <th>Date</th>\n",
       "      <th>inflation_rate</th>\n",
       "      <th>house_price</th>\n",
       "      <th>Import_value</th>\n",
       "      <th>Export_value</th>\n",
       "      <th>unemploment rate</th>\n",
       "      <th>interest rate</th>\n",
       "    </tr>\n",
       "  </thead>\n",
       "  <tbody>\n",
       "    <tr>\n",
       "      <th>0</th>\n",
       "      <td>2012-Jan</td>\n",
       "      <td>2.9</td>\n",
       "      <td>163297.0</td>\n",
       "      <td>188224982925</td>\n",
       "      <td>118156544582</td>\n",
       "      <td>8.3</td>\n",
       "      <td>3.92</td>\n",
       "    </tr>\n",
       "    <tr>\n",
       "      <th>1</th>\n",
       "      <td>2012-Feb</td>\n",
       "      <td>2.9</td>\n",
       "      <td>163187.0</td>\n",
       "      <td>176338299043</td>\n",
       "      <td>123448585034</td>\n",
       "      <td>8.3</td>\n",
       "      <td>3.89</td>\n",
       "    </tr>\n",
       "    <tr>\n",
       "      <th>2</th>\n",
       "      <td>2012-Mar</td>\n",
       "      <td>2.7</td>\n",
       "      <td>163356.0</td>\n",
       "      <td>202088822547</td>\n",
       "      <td>139760502675</td>\n",
       "      <td>8.2</td>\n",
       "      <td>3.95</td>\n",
       "    </tr>\n",
       "    <tr>\n",
       "      <th>3</th>\n",
       "      <td>2012-Apr</td>\n",
       "      <td>2.3</td>\n",
       "      <td>163679.0</td>\n",
       "      <td>194220616666</td>\n",
       "      <td>127377156294</td>\n",
       "      <td>8.2</td>\n",
       "      <td>3.91</td>\n",
       "    </tr>\n",
       "    <tr>\n",
       "      <th>4</th>\n",
       "      <td>2012-May</td>\n",
       "      <td>1.7</td>\n",
       "      <td>164156.0</td>\n",
       "      <td>203703337686</td>\n",
       "      <td>131457194003</td>\n",
       "      <td>8.2</td>\n",
       "      <td>3.80</td>\n",
       "    </tr>\n",
       "    <tr>\n",
       "      <th>...</th>\n",
       "      <td>...</td>\n",
       "      <td>...</td>\n",
       "      <td>...</td>\n",
       "      <td>...</td>\n",
       "      <td>...</td>\n",
       "      <td>...</td>\n",
       "      <td>...</td>\n",
       "    </tr>\n",
       "    <tr>\n",
       "      <th>103</th>\n",
       "      <td>2020-Aug</td>\n",
       "      <td>1.3</td>\n",
       "      <td>257022.0</td>\n",
       "      <td>209439292560</td>\n",
       "      <td>117958253650</td>\n",
       "      <td>8.4</td>\n",
       "      <td>2.94</td>\n",
       "    </tr>\n",
       "    <tr>\n",
       "      <th>104</th>\n",
       "      <td>2020-Sep</td>\n",
       "      <td>1.4</td>\n",
       "      <td>259531.0</td>\n",
       "      <td>212436902064</td>\n",
       "      <td>121378736772</td>\n",
       "      <td>7.9</td>\n",
       "      <td>2.89</td>\n",
       "    </tr>\n",
       "    <tr>\n",
       "      <th>105</th>\n",
       "      <td>2020-Oct</td>\n",
       "      <td>1.2</td>\n",
       "      <td>262350.0</td>\n",
       "      <td>226163789343</td>\n",
       "      <td>132402660776</td>\n",
       "      <td>6.9</td>\n",
       "      <td>2.83</td>\n",
       "    </tr>\n",
       "    <tr>\n",
       "      <th>106</th>\n",
       "      <td>2020-Nov</td>\n",
       "      <td>1.2</td>\n",
       "      <td>265374.0</td>\n",
       "      <td>219391292326</td>\n",
       "      <td>126854420188</td>\n",
       "      <td>6.7</td>\n",
       "      <td>2.77</td>\n",
       "    </tr>\n",
       "    <tr>\n",
       "      <th>107</th>\n",
       "      <td>2020-Dec</td>\n",
       "      <td>1.4</td>\n",
       "      <td>268418.0</td>\n",
       "      <td>222249097743</td>\n",
       "      <td>132469605190</td>\n",
       "      <td>6.7</td>\n",
       "      <td>2.68</td>\n",
       "    </tr>\n",
       "  </tbody>\n",
       "</table>\n",
       "<p>108 rows × 7 columns</p>\n",
       "</div>"
      ],
      "text/plain": [
       "         Date  inflation_rate  house_price  Import_value  Export_value  \\\n",
       "0    2012-Jan             2.9     163297.0  188224982925  118156544582   \n",
       "1    2012-Feb             2.9     163187.0  176338299043  123448585034   \n",
       "2    2012-Mar             2.7     163356.0  202088822547  139760502675   \n",
       "3    2012-Apr             2.3     163679.0  194220616666  127377156294   \n",
       "4    2012-May             1.7     164156.0  203703337686  131457194003   \n",
       "..        ...             ...          ...           ...           ...   \n",
       "103  2020-Aug             1.3     257022.0  209439292560  117958253650   \n",
       "104  2020-Sep             1.4     259531.0  212436902064  121378736772   \n",
       "105  2020-Oct             1.2     262350.0  226163789343  132402660776   \n",
       "106  2020-Nov             1.2     265374.0  219391292326  126854420188   \n",
       "107  2020-Dec             1.4     268418.0  222249097743  132469605190   \n",
       "\n",
       "     unemploment rate  interest rate  \n",
       "0                 8.3           3.92  \n",
       "1                 8.3           3.89  \n",
       "2                 8.2           3.95  \n",
       "3                 8.2           3.91  \n",
       "4                 8.2           3.80  \n",
       "..                ...            ...  \n",
       "103               8.4           2.94  \n",
       "104               7.9           2.89  \n",
       "105               6.9           2.83  \n",
       "106               6.7           2.77  \n",
       "107               6.7           2.68  \n",
       "\n",
       "[108 rows x 7 columns]"
      ]
     },
     "execution_count": 21,
     "metadata": {},
     "output_type": "execute_result"
    }
   ],
   "source": [
    "combine"
   ]
  },
  {
   "cell_type": "markdown",
   "id": "db779307",
   "metadata": {},
   "source": [
    "### multi-linear regression as factor （no import）"
   ]
  },
  {
   "cell_type": "code",
   "execution_count": 22,
   "id": "88c6e207",
   "metadata": {},
   "outputs": [
    {
     "data": {
      "text/plain": [
       "[<matplotlib.lines.Line2D at 0x7fae7a74e100>,\n",
       " <matplotlib.lines.Line2D at 0x7fae7a74e1f0>,\n",
       " <matplotlib.lines.Line2D at 0x7fae7a74e310>]"
      ]
     },
     "execution_count": 22,
     "metadata": {},
     "output_type": "execute_result"
    },
    {
     "data": {
      "image/png": "[encoded data removed]",
      "text/plain": [
       "<Figure size 432x288 with 1 Axes>"
      ]
     },
     "metadata": {
      "needs_background": "light"
     },
     "output_type": "display_data"
    }
   ],
   "source": [
    "X = combine[['Export_value','unemploment rate','interest rate']]\n",
    "y = combine['inflation_rate']\n",
    "\n",
    "x_train, x_test, y_train, y_test = train_test_split(X, y, test_size = 0.3, random_state=42)\n",
    "regr = linear_model.LinearRegression()\n",
    "regr.fit(x_train, y_train)\n",
    "\n",
    "y_prediction =  regr.predict(x_test)\n",
    "y_prediction\n",
    "\n",
    "plt.plot(X,y,'.b')"
   ]
  },
  {
   "cell_type": "code",
   "execution_count": 23,
   "id": "ee500bb9",
   "metadata": {},
   "outputs": [
    {
     "name": "stdout",
     "output_type": "stream",
     "text": [
      "r2 socre is  0.3124412120161284\n",
      "mean_sqrd_error is== 0.4717196261288061\n",
      "root_mean_squared error of is== 0.686818481207958\n"
     ]
    }
   ],
   "source": [
    "# importing r2_score module\n",
    "from sklearn.metrics import r2_score\n",
    "from sklearn.metrics import mean_squared_error\n",
    "# predicting the accuracy score\n",
    "score=r2_score(y_test,y_prediction)\n",
    "print('r2 socre is ',score)\n",
    "print('mean_sqrd_error is==',mean_squared_error(y_test,y_prediction))\n",
    "print('root_mean_squared error of is==',np.sqrt(mean_squared_error(y_test,y_prediction)))"
   ]
  },
  {
   "cell_type": "markdown",
   "id": "60572f3b",
   "metadata": {},
   "source": [
    "### choose two factor to predict"
   ]
  },
  {
   "cell_type": "code",
   "execution_count": 24,
   "id": "08a42aac",
   "metadata": {},
   "outputs": [
    {
     "data": {
      "text/plain": [
       "[<matplotlib.lines.Line2D at 0x7fae7aa0b9a0>,\n",
       " <matplotlib.lines.Line2D at 0x7fae7aa0bb20>]"
      ]
     },
     "execution_count": 24,
     "metadata": {},
     "output_type": "execute_result"
    },
    {
     "data": {
      "image/png": "[encoded data removed]",
      "text/plain": [
       "<Figure size 432x288 with 1 Axes>"
      ]
     },
     "metadata": {
      "needs_background": "light"
     },
     "output_type": "display_data"
    }
   ],
   "source": [
    "Y=combine['inflation_rate']\n",
    "X=combine[['Export_value','unemploment rate']]\n",
    "plt.plot(X,Y,'.b')"
   ]
  },
  {
   "cell_type": "code",
   "execution_count": 25,
   "id": "11ca299d",
   "metadata": {},
   "outputs": [
    {
     "name": "stdout",
     "output_type": "stream",
     "text": [
      "r2 socre is  0.3124412120161284\n",
      "mean_sqrd_error is== 0.4717196261288061\n",
      "root_mean_squared error of is== 0.686818481207958\n"
     ]
    }
   ],
   "source": [
    "# importing r2_score module\n",
    "from sklearn.metrics import r2_score\n",
    "from sklearn.metrics import mean_squared_error\n",
    "# predicting the accuracy score\n",
    "score=r2_score(y_test,y_prediction)\n",
    "print('r2 socre is ',score)\n",
    "print('mean_sqrd_error is==',mean_squared_error(y_test,y_prediction))\n",
    "print('root_mean_squared error of is==',np.sqrt(mean_squared_error(y_test,y_prediction)))"
   ]
  },
  {
   "cell_type": "markdown",
   "id": "9b9c5ead",
   "metadata": {},
   "source": [
    "## polynomial regression-- 1 factor: house price"
   ]
  },
  {
   "cell_type": "code",
   "execution_count": 26,
   "id": "41f422a8",
   "metadata": {},
   "outputs": [],
   "source": [
    "X = combine['house_price'].values.reshape(-1,1)\n",
    "y = combine['inflation_rate'].values.reshape(-1,1)"
   ]
  },
  {
   "cell_type": "code",
   "execution_count": 27,
   "id": "f125aae9",
   "metadata": {},
   "outputs": [
    {
     "data": {
      "text/plain": [
       "LinearRegression()"
      ]
     },
     "execution_count": 27,
     "metadata": {},
     "output_type": "execute_result"
    }
   ],
   "source": [
    "#fitting linear regression to the dataset\n",
    "lin = LinearRegression()\n",
    "lin.fit(X, y)"
   ]
  },
  {
   "cell_type": "code",
   "execution_count": 28,
   "id": "33b58106",
   "metadata": {},
   "outputs": [
    {
     "data": {
      "image/png": "[encoded data removed]",
      "text/plain": [
       "<Figure size 432x288 with 1 Axes>"
      ]
     },
     "metadata": {
      "needs_background": "light"
     },
     "output_type": "display_data"
    }
   ],
   "source": [
    "# Visualising the Linear Regression results\n",
    "plt.scatter(X, y, color = 'blue')\n",
    " \n",
    "plt.plot(X, lin.predict(X), color = 'red')\n",
    "plt.title('Linear Regression')\n",
    "plt.xlabel('House Price')\n",
    "plt.ylabel('Inflation')\n",
    " \n",
    "plt.show()"
   ]
  },
  {
   "cell_type": "code",
   "execution_count": 29,
   "id": "9db9136a",
   "metadata": {},
   "outputs": [
    {
     "name": "stdout",
     "output_type": "stream",
     "text": [
      "0.4089822592647582\n"
     ]
    }
   ],
   "source": [
    "import sklearn.metrics as metrics\n",
    "from sklearn.preprocessing import PolynomialFeatures\n",
    " \n",
    "##fitting polynomial regression to the dataset\n",
    "x_train, x_test, y_train, y_test = train_test_split(X, y, test_size = 0.3, random_state=42) \n",
    "poly = PolynomialFeatures(degree = 3)\n",
    "x_poly_train = poly.fit_transform(x_train)\n",
    "x_poly_test = poly.fit_transform(x_test)\n",
    "\n",
    "lin2 = LinearRegression()\n",
    "lin2.fit(x_poly_train, y_train)\n",
    "test_pred_2 = lin2.predict(x_poly_test)\n",
    "#testset evaluation\n",
    "r2 = metrics.r2_score(y_true = y_test, y_pred = test_pred_2)\n",
    "print(r2)"
   ]
  },
  {
   "cell_type": "code",
   "execution_count": 30,
   "id": "e4eafa93",
   "metadata": {},
   "outputs": [
    {
     "data": {
      "image/png": "[encoded data removed]",
      "text/plain": [
       "<Figure size 432x288 with 1 Axes>"
      ]
     },
     "metadata": {
      "needs_background": "light"
     },
     "output_type": "display_data"
    }
   ],
   "source": [
    "# Visualising the Polynomial Regression results\n",
    "plt.scatter(X, y, color = 'blue')\n",
    " \n",
    "plt.plot(X, lin2.predict(poly.fit_transform(X)), color = 'red')\n",
    "plt.title('Polynomial Regression')\n",
    "plt.xlabel('Temperature')\n",
    "plt.ylabel('Pressure')\n",
    " \n",
    "plt.show()"
   ]
  },
  {
   "cell_type": "markdown",
   "id": "ec664b80",
   "metadata": {},
   "source": [
    "## polynomial regression-- 1 factor: Export Value"
   ]
  },
  {
   "cell_type": "code",
   "execution_count": 31,
   "id": "c3a56eb5",
   "metadata": {},
   "outputs": [
    {
     "data": {
      "image/png": "[encoded data removed]",
      "text/plain": [
       "<Figure size 432x288 with 1 Axes>"
      ]
     },
     "metadata": {
      "needs_background": "light"
     },
     "output_type": "display_data"
    }
   ],
   "source": [
    "X = combine['Export_value'].values.reshape(-1,1)\n",
    "y = combine['inflation_rate'].values.reshape(-1,1)\n",
    "#fitting linear regression to the dataset\n",
    "lin = LinearRegression()\n",
    "lin.fit(X, y)\n",
    "# Visualising the Linear Regression results\n",
    "plt.scatter(X, y, color = 'blue')\n",
    " \n",
    "plt.plot(X, lin.predict(X), color = 'red')\n",
    "plt.title('Linear Regression')\n",
    "plt.xlabel('House Price')\n",
    "plt.ylabel('Inflation')\n",
    " \n",
    "plt.show()"
   ]
  },
  {
   "cell_type": "code",
   "execution_count": 32,
   "id": "b7f2d6af",
   "metadata": {},
   "outputs": [
    {
     "name": "stdout",
     "output_type": "stream",
     "text": [
      "0.2851360236906926\n"
     ]
    },
    {
     "data": {
      "image/png": "[encoded data removed]",
      "text/plain": [
       "<Figure size 432x288 with 1 Axes>"
      ]
     },
     "metadata": {
      "needs_background": "light"
     },
     "output_type": "display_data"
    }
   ],
   "source": [
    "##fitting polynomial regression to the dataset\n",
    "x_train, x_test, y_train, y_test = train_test_split(X, y, test_size = 0.3, random_state=42) \n",
    "poly = PolynomialFeatures(degree = 3)\n",
    "x_poly_train = poly.fit_transform(x_train)\n",
    "x_poly_test = poly.fit_transform(x_test)\n",
    "\n",
    "lin2 = LinearRegression()\n",
    "lin2.fit(x_poly_train, y_train)\n",
    "test_pred_2 = lin2.predict(x_poly_test)\n",
    "#testset evaluation\n",
    "r2 = metrics.r2_score(y_true = y_test, y_pred = test_pred_2)\n",
    "print(r2)\n",
    "# Visualising the Polynomial Regression results\n",
    "plt.scatter(X, y, color = 'blue')\n",
    " \n",
    "plt.plot(X, lin2.predict(poly.fit_transform(X)), color = 'red')\n",
    "plt.title('Polynomial Regression')\n",
    "plt.xlabel('Temperature')\n",
    "plt.ylabel('Pressure')\n",
    " \n",
    "plt.show()"
   ]
  },
  {
   "cell_type": "markdown",
   "id": "d241297c",
   "metadata": {},
   "source": [
    "## polynomial regression-- 1 factor: Unemployment Rate"
   ]
  },
  {
   "cell_type": "code",
   "execution_count": 33,
   "id": "9d2c4328",
   "metadata": {},
   "outputs": [
    {
     "data": {
      "image/png": "[encoded data removed]",
      "text/plain": [
       "<Figure size 432x288 with 1 Axes>"
      ]
     },
     "metadata": {
      "needs_background": "light"
     },
     "output_type": "display_data"
    }
   ],
   "source": [
    "X = combine['unemploment rate'].values.reshape(-1,1)\n",
    "y = combine['inflation_rate'].values.reshape(-1,1)\n",
    "#fitting linear regression to the dataset\n",
    "lin = LinearRegression()\n",
    "lin.fit(X, y)\n",
    "# Visualising the Linear Regression results\n",
    "plt.scatter(X, y, color = 'blue')\n",
    " \n",
    "plt.plot(X, lin.predict(X), color = 'red')\n",
    "plt.title('Linear Regression')\n",
    "plt.xlabel('House Price')\n",
    "plt.ylabel('Inflation')\n",
    " \n",
    "plt.show()"
   ]
  },
  {
   "cell_type": "code",
   "execution_count": 34,
   "id": "c7d73458",
   "metadata": {},
   "outputs": [
    {
     "name": "stdout",
     "output_type": "stream",
     "text": [
      "0.41697442921452954\n"
     ]
    },
    {
     "data": {
      "image/png": "[encoded data removed]",
      "text/plain": [
       "<Figure size 432x288 with 1 Axes>"
      ]
     },
     "metadata": {
      "needs_background": "light"
     },
     "output_type": "display_data"
    }
   ],
   "source": [
    "x_train, x_test, y_train, y_test = train_test_split(X, y, test_size = 0.3, random_state=42) \n",
    "poly = PolynomialFeatures(degree = 4)\n",
    "x_poly_train = poly.fit_transform(x_train)\n",
    "x_poly_test = poly.fit_transform(x_test)\n",
    "\n",
    "lin2 = LinearRegression()\n",
    "lin2.fit(x_poly_train, y_train)\n",
    "test_pred_2 = lin2.predict(x_poly_test)\n",
    "#testset evaluation\n",
    "r2 = metrics.r2_score(y_true = y_test, y_pred = test_pred_2)\n",
    "print(r2)\n",
    "# Visualising the Polynomial Regression results\n",
    "plt.scatter(X, y, color = 'blue')\n",
    " \n",
    "plt.plot(X, lin2.predict(poly.fit_transform(X)), color = 'red')\n",
    "plt.title('Polynomial Regression')\n",
    "plt.xlabel('Temperature')\n",
    "plt.ylabel('Pressure')\n",
    " \n",
    "plt.show()"
   ]
  },
  {
   "cell_type": "markdown",
   "id": "9914ef69",
   "metadata": {},
   "source": [
    "## polynomial regression-- 1 factor: Interest Rate"
   ]
  },
  {
   "cell_type": "code",
   "execution_count": 35,
   "id": "5da9606f",
   "metadata": {},
   "outputs": [
    {
     "data": {
      "image/png": "[encoded data removed]",
      "text/plain": [
       "<Figure size 432x288 with 1 Axes>"
      ]
     },
     "metadata": {
      "needs_background": "light"
     },
     "output_type": "display_data"
    }
   ],
   "source": [
    "X = combine['interest rate'].values.reshape(-1,1)\n",
    "y = combine['inflation_rate'].values.reshape(-1,1)\n",
    "#fitting linear regression to the dataset\n",
    "lin = LinearRegression()\n",
    "lin.fit(X, y)\n",
    "# Visualising the Linear Regression results\n",
    "plt.scatter(X, y, color = 'blue')\n",
    " \n",
    "plt.plot(X, lin.predict(X), color = 'red')\n",
    "plt.title('Linear Regression')\n",
    "plt.xlabel('House Price')\n",
    "plt.ylabel('Inflation')\n",
    " \n",
    "plt.show()"
   ]
  },
  {
   "cell_type": "code",
   "execution_count": 36,
   "id": "7310ebe1",
   "metadata": {},
   "outputs": [
    {
     "name": "stdout",
     "output_type": "stream",
     "text": [
      "0.21993527869034846\n"
     ]
    },
    {
     "data": {
      "image/png": "[encoded data removed]",
      "text/plain": [
       "<Figure size 432x288 with 1 Axes>"
      ]
     },
     "metadata": {
      "needs_background": "light"
     },
     "output_type": "display_data"
    }
   ],
   "source": [
    "x_train, x_test, y_train, y_test = train_test_split(X, y, test_size = 0.3, random_state=42) \n",
    "poly = PolynomialFeatures(degree = 2)\n",
    "x_poly_train = poly.fit_transform(x_train)\n",
    "x_poly_test = poly.fit_transform(x_test)\n",
    "\n",
    "lin2 = LinearRegression()\n",
    "lin2.fit(x_poly_train, y_train)\n",
    "test_pred_2 = lin2.predict(x_poly_test)\n",
    "#testset evaluation\n",
    "r2 = metrics.r2_score(y_true = y_test, y_pred = test_pred_2)\n",
    "print(r2)\n",
    "# Visualising the Polynomial Regression results\n",
    "plt.scatter(X, y, color = 'blue')\n",
    " \n",
    "plt.plot(X, lin2.predict(poly.fit_transform(X)), color = 'red')\n",
    "plt.title('Polynomial Regression')\n",
    "plt.xlabel('Temperature')\n",
    "plt.ylabel('Pressure')\n",
    " \n",
    "plt.show()"
   ]
  },
  {
   "cell_type": "markdown",
   "id": "4a56f242",
   "metadata": {},
   "source": [
    "## polynomial regression"
   ]
  },
  {
   "cell_type": "markdown",
   "id": "88659e48",
   "metadata": {},
   "source": [
    "## feature"
   ]
  },
  {
   "cell_type": "code",
   "execution_count": 64,
   "id": "6047d8be",
   "metadata": {},
   "outputs": [
    {
     "name": "stdout",
     "output_type": "stream",
     "text": [
      "0.302837763150956\n"
     ]
    }
   ],
   "source": [
    "x = combine[['house_price','Export_value']]\n",
    "y = combine['inflation_rate']\n",
    "x_train, x_test, y_train, y_test = train_test_split(x, y, test_size = 0.3, random_state=42) \n",
    "po = PolynomialFeatures(degree=1, interaction_only=False, include_bias=True)\n",
    "x_po_train = po.fit_transform(x_train)\n",
    "x_po_test = po.fit_transform(x_test)\n",
    "\n",
    "lin2 = LinearRegression()\n",
    "lin2.fit(x_po_train, y_train)\n",
    "test_pred_2 = lin2.predict(x_po_test)\n",
    "#testset evaluation\n",
    "r2 = metrics.r2_score(y_true = y_test, y_pred = test_pred_2)\n",
    "print(r2)"
   ]
  },
  {
   "cell_type": "code",
   "execution_count": 69,
   "id": "35e7b639",
   "metadata": {},
   "outputs": [
    {
     "name": "stdout",
     "output_type": "stream",
     "text": [
      "0.6091938064175285\n"
     ]
    }
   ],
   "source": [
    "x = combine[['house_price','unemploment rate']]\n",
    "y = combine['inflation_rate']\n",
    "x_train, x_test, y_train, y_test = train_test_split(x, y, test_size = 0.3, random_state=42) \n",
    "po = PolynomialFeatures(degree=3, interaction_only=False, include_bias=True)\n",
    "x_po_train = po.fit_transform(x_train)\n",
    "x_po_test = po.fit_transform(x_test)\n",
    "\n",
    "lin2 = LinearRegression()\n",
    "lin2.fit(x_po_train, y_train)\n",
    "test_pred_2 = lin2.predict(x_po_test)\n",
    "#testset evaluation\n",
    "r2 = metrics.r2_score(y_true = y_test, y_pred = test_pred_2)\n",
    "print(r2)"
   ]
  },
  {
   "cell_type": "code",
   "execution_count": 75,
   "id": "89b54448",
   "metadata": {},
   "outputs": [
    {
     "name": "stdout",
     "output_type": "stream",
     "text": [
      "0.5603153430217239\n"
     ]
    }
   ],
   "source": [
    "x = combine[['house_price','interest rate']]\n",
    "y = combine['inflation_rate']\n",
    "x_train, x_test, y_train, y_test = train_test_split(x, y, test_size = 0.3, random_state=42) \n",
    "po = PolynomialFeatures(degree=4, interaction_only=False, include_bias=True)\n",
    "x_po_train = po.fit_transform(x_train)\n",
    "x_po_test = po.fit_transform(x_test)\n",
    "\n",
    "lin2 = LinearRegression()\n",
    "lin2.fit(x_po_train, y_train)\n",
    "test_pred_2 = lin2.predict(x_po_test)\n",
    "#testset evaluation\n",
    "r2 = metrics.r2_score(y_true = y_test, y_pred = test_pred_2)\n",
    "print(r2)"
   ]
  },
  {
   "cell_type": "code",
   "execution_count": 81,
   "id": "61ae275b",
   "metadata": {},
   "outputs": [
    {
     "name": "stdout",
     "output_type": "stream",
     "text": [
      "0.28093852770619765\n"
     ]
    }
   ],
   "source": [
    "x = combine[['Export_value','unemploment rate']]\n",
    "y = combine['inflation_rate']\n",
    "x_train, x_test, y_train, y_test = train_test_split(x, y, test_size = 0.3, random_state=42) \n",
    "po = PolynomialFeatures(degree=2, interaction_only=False, include_bias=True)\n",
    "x_po_train = po.fit_transform(x_train)\n",
    "x_po_test = po.fit_transform(x_test)\n",
    "\n",
    "lin2 = LinearRegression()\n",
    "lin2.fit(x_po_train, y_train)\n",
    "test_pred_2 = lin2.predict(x_po_test)\n",
    "#testset evaluation\n",
    "r2 = metrics.r2_score(y_true = y_test, y_pred = test_pred_2)\n",
    "print(r2)"
   ]
  },
  {
   "cell_type": "code",
   "execution_count": 87,
   "id": "1a5ab12d",
   "metadata": {},
   "outputs": [
    {
     "name": "stdout",
     "output_type": "stream",
     "text": [
      "0.32436139493990535\n"
     ]
    }
   ],
   "source": [
    "x = combine[['Export_value','interest rate']]\n",
    "y = combine['inflation_rate']\n",
    "x_train, x_test, y_train, y_test = train_test_split(x, y, test_size = 0.3, random_state=42) \n",
    "po = PolynomialFeatures(degree=1, interaction_only=False, include_bias=True)\n",
    "x_po_train = po.fit_transform(x_train)\n",
    "x_po_test = po.fit_transform(x_test)\n",
    "\n",
    "lin2 = LinearRegression()\n",
    "lin2.fit(x_po_train, y_train)\n",
    "test_pred_2 = lin2.predict(x_po_test)\n",
    "#testset evaluation\n",
    "r2 = metrics.r2_score(y_true = y_test, y_pred = test_pred_2)\n",
    "print(r2)"
   ]
  },
  {
   "cell_type": "code",
   "execution_count": 95,
   "id": "619246da",
   "metadata": {},
   "outputs": [
    {
     "name": "stdout",
     "output_type": "stream",
     "text": [
      "0.5599150146198155\n"
     ]
    }
   ],
   "source": [
    "x = combine[['unemploment rate','interest rate']]\n",
    "y = combine['inflation_rate']\n",
    "x_train, x_test, y_train, y_test = train_test_split(x, y, test_size = 0.3, random_state=42) \n",
    "po = PolynomialFeatures(degree=4, interaction_only=False, include_bias=True)\n",
    "x_po_train = po.fit_transform(x_train)\n",
    "x_po_test = po.fit_transform(x_test)\n",
    "\n",
    "lin2 = LinearRegression()\n",
    "lin2.fit(x_po_train, y_train)\n",
    "test_pred_2 = lin2.predict(x_po_test)\n",
    "#testset evaluation\n",
    "r2 = metrics.r2_score(y_true = y_test, y_pred = test_pred_2)\n",
    "print(r2)"
   ]
  },
  {
   "cell_type": "markdown",
   "id": "926f3f6b",
   "metadata": {},
   "source": [
    "## Three feature"
   ]
  },
  {
   "cell_type": "code",
   "execution_count": 99,
   "id": "5b35217c",
   "metadata": {},
   "outputs": [
    {
     "name": "stdout",
     "output_type": "stream",
     "text": [
      "0.28631637342035055\n"
     ]
    }
   ],
   "source": [
    "x = combine[['house_price','Export_value','unemploment rate']]\n",
    "y = combine['inflation_rate']\n",
    "x_train, x_test, y_train, y_test = train_test_split(x, y, test_size = 0.3, random_state=42) \n",
    "po = PolynomialFeatures(degree=1, interaction_only=False, include_bias=True)\n",
    "x_po_train = po.fit_transform(x_train)\n",
    "x_po_test = po.fit_transform(x_test)\n",
    "\n",
    "lin2 = LinearRegression()\n",
    "lin2.fit(x_po_train, y_train)\n",
    "test_pred_2 = lin2.predict(x_po_test)\n",
    "#testset evaluation\n",
    "r2 = metrics.r2_score(y_true = y_test, y_pred = test_pred_2)\n",
    "print(r2)"
   ]
  },
  {
   "cell_type": "code",
   "execution_count": 103,
   "id": "4cc828db",
   "metadata": {},
   "outputs": [
    {
     "name": "stdout",
     "output_type": "stream",
     "text": [
      "0.3124412120161285\n"
     ]
    }
   ],
   "source": [
    "x = combine[['Export_value','unemploment rate','interest rate']]\n",
    "y = combine['inflation_rate']\n",
    "x_train, x_test, y_train, y_test = train_test_split(x, y, test_size = 0.3, random_state=42) \n",
    "po = PolynomialFeatures(degree=1, interaction_only=False, include_bias=True)\n",
    "x_po_train = po.fit_transform(x_train)\n",
    "x_po_test = po.fit_transform(x_test)\n",
    "\n",
    "lin2 = LinearRegression()\n",
    "lin2.fit(x_po_train, y_train)\n",
    "test_pred_2 = lin2.predict(x_po_test)\n",
    "#testset evaluation\n",
    "r2 = metrics.r2_score(y_true = y_test, y_pred = test_pred_2)\n",
    "print(r2)"
   ]
  },
  {
   "cell_type": "code",
   "execution_count": 104,
   "id": "5291f57e",
   "metadata": {},
   "outputs": [
    {
     "name": "stdout",
     "output_type": "stream",
     "text": [
      "0.7503824812705898\n",
      "coef: [ 0.00000000e+00 -5.08174486e-03 -2.46060966e-04 -8.54237619e-05\n",
      "  2.48282765e-08  4.19986908e-05  9.26022665e-05 -7.31383727e-03\n",
      " -3.59011146e-03 -2.43093494e-04 -3.62998612e-14 -1.68090566e-10\n",
      " -4.82306310e-10  7.08187220e-07  2.75657201e-07  3.33540307e-06\n",
      "  6.00435478e-03 -8.04871136e-02 -2.22950067e-02  2.86828571e-03]\n",
      "intercept: 303.3995468581858\n"
     ]
    }
   ],
   "source": [
    "x = combine[['house_price','unemploment rate','interest rate']]\n",
    "y = combine['inflation_rate']\n",
    "x_train, x_test, y_train, y_test = train_test_split(x, y, test_size = 0.3, random_state=42) \n",
    "po = PolynomialFeatures(degree=3, interaction_only=False, include_bias=True)\n",
    "x_po_train = po.fit_transform(x_train)\n",
    "x_po_test = po.fit_transform(x_test)\n",
    "\n",
    "lin2 = LinearRegression()\n",
    "lin2.fit(x_po_train, y_train)\n",
    "test_pred_2 = lin2.predict(x_po_test)\n",
    "#testset evaluation\n",
    "r2 = metrics.r2_score(y_true = y_test, y_pred = test_pred_2)\n",
    "print(r2)\n",
    "print('coef:',lin2.coef_)\n",
    "print('intercept:',lin2.intercept_)"
   ]
  },
  {
   "cell_type": "code",
   "execution_count": 107,
   "id": "c8e4023a",
   "metadata": {},
   "outputs": [
    {
     "name": "stdout",
     "output_type": "stream",
     "text": [
      "0.3126328342119036\n"
     ]
    }
   ],
   "source": [
    "x = combine[['house_price','Export_value','interest rate']]\n",
    "y = combine['inflation_rate']\n",
    "x_train, x_test, y_train, y_test = train_test_split(x, y, test_size = 0.3, random_state=42) \n",
    "po = PolynomialFeatures(degree=1, interaction_only=False, include_bias=True)\n",
    "x_po_train = po.fit_transform(x_train)\n",
    "x_po_test = po.fit_transform(x_test)\n",
    "\n",
    "lin2 = LinearRegression()\n",
    "lin2.fit(x_po_train, y_train)\n",
    "test_pred_2 = lin2.predict(x_po_test)\n",
    "#testset evaluation\n",
    "r2 = metrics.r2_score(y_true = y_test, y_pred = test_pred_2)\n",
    "print(r2)"
   ]
  },
  {
   "cell_type": "markdown",
   "id": "f0f60afd",
   "metadata": {},
   "source": [
    "## all feature"
   ]
  },
  {
   "cell_type": "code",
   "execution_count": 112,
   "id": "a60327c0",
   "metadata": {},
   "outputs": [
    {
     "name": "stdout",
     "output_type": "stream",
     "text": [
      "0.3161894551204495\n"
     ]
    }
   ],
   "source": [
    "x = combine[['house_price','Export_value','unemploment rate','interest rate']]\n",
    "y = combine['inflation_rate']\n",
    "x_train, x_test, y_train, y_test = train_test_split(x, y, test_size = 0.3, random_state=42) \n",
    "po = PolynomialFeatures(degree=1, interaction_only=False, include_bias=True)\n",
    "x_po_train = po.fit_transform(x_train)\n",
    "x_po_test = po.fit_transform(x_test)\n",
    "\n",
    "lin2 = LinearRegression()\n",
    "lin2.fit(x_po_train, y_train)\n",
    "test_pred_2 = lin2.predict(x_po_test)\n",
    "#testset evaluation\n",
    "r2 = metrics.r2_score(y_true = y_test, y_pred = test_pred_2)\n",
    "print(r2)"
   ]
  }
 ],
 "metadata": {
  "kernelspec": {
   "display_name": "Python 3 (ipykernel)",
   "language": "python",
   "name": "python3"
  },
  "language_info": {
   "codemirror_mode": {
    "name": "ipython",
    "version": 3
   },
   "file_extension": ".py",
   "mimetype": "text/x-python",
   "name": "python",
   "nbconvert_exporter": "python",
   "pygments_lexer": "ipython3",
   "version": "3.9.7"
  }
 },
 "nbformat": 4,
 "nbformat_minor": 5
}
